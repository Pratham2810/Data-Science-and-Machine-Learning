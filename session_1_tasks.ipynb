{
  "nbformat": 4,
  "nbformat_minor": 0,
  "metadata": {
    "colab": {
      "provenance": []
    },
    "kernelspec": {
      "name": "python3",
      "display_name": "Python 3"
    },
    "language_info": {
      "name": "python"
    }
  },
  "cells": [
    {
      "cell_type": "markdown",
      "source": [
        "# Task : Session 1\n",
        "Solve these questions own your own and try to test yourself what you have learned in the session.\n",
        "\n",
        "Happy Learning!"
      ],
      "metadata": {
        "id": "A05OG15VqOPF"
      }
    },
    {
      "cell_type": "markdown",
      "source": [
        "### Q1 :- Print the given strings as per stated format.\n",
        "\n",
        "**Given strings**:\n",
        "```\n",
        "\"Data\" \"Science\" \"Mentorship\" \"Program\"\n",
        "\"By\" \"CampusX\"\n",
        "```\n",
        "**Output**:\n",
        "```\n",
        "Data-Science-Mentorship-Program-started-By-CampusX\n",
        "```\n",
        "\n",
        "Concept- [Seperator and End]"
      ],
      "metadata": {
        "id": "2doIXf8bqe9_"
      }
    },
    {
      "cell_type": "code",
      "source": [
        "# Write your code here\n",
        "print(\"Data\",\"Science\",\"Mentorship\",\"Program\",sep=\"-\",end=\"-\" )\n",
        "print(\"By\",\"CampusX\",sep=\"-\")"
      ],
      "metadata": {
        "id": "-em6d3KErDtp",
        "outputId": "ba97f3a9-71c6-4a50-bae2-6992018de6dc",
        "colab": {
          "base_uri": "https://localhost:8080/"
        }
      },
      "execution_count": 2,
      "outputs": [
        {
          "output_type": "stream",
          "name": "stdout",
          "text": [
            "Data-Science-Mentorship-Program-By-CampusX\n"
          ]
        }
      ]
    },
    {
      "cell_type": "markdown",
      "source": [
        "### Q2:- Write a program that will convert celsius value to fahrenheit."
      ],
      "metadata": {
        "id": "1KUpN7ZTrC3_"
      }
    },
    {
      "cell_type": "code",
      "source": [
        "# Write your code here\n",
        "cel=float(input(\"Enter the temp in celsius\"))\n",
        "fah=((9/5)*cel)+32\n",
        "print(fah)"
      ],
      "metadata": {
        "id": "yxKYhYQiqWfj",
        "outputId": "f0194c10-83c7-437a-e701-90f5b907905c",
        "colab": {
          "base_uri": "https://localhost:8080/"
        }
      },
      "execution_count": 3,
      "outputs": [
        {
          "output_type": "stream",
          "name": "stdout",
          "text": [
            "Enter the temp in celsius36\n",
            "96.8\n"
          ]
        }
      ]
    },
    {
      "cell_type": "markdown",
      "source": [
        "### Q3:- Take 2 numbers as input from the user.Write a program to swap the numbers without using any special python syntax."
      ],
      "metadata": {
        "id": "RLrOBBJurLB2"
      }
    },
    {
      "cell_type": "code",
      "source": [
        "# Write your code here\n",
        "a=int(input(\"Enter the 1st number\"))\n",
        "\n",
        "b=int(input(\"Enter the 2nd number\"))\n",
        "t=0\n",
        "\n",
        "t=b\n",
        "b=a\n",
        "a=t\n",
        "\n",
        "print(\"THE SWAPPED NUMBER ARE\",a,b)\n"
      ],
      "metadata": {
        "id": "yPn7if0TrJ4F",
        "outputId": "76275cea-acb2-402c-e65f-aa57932815ab",
        "colab": {
          "base_uri": "https://localhost:8080/"
        }
      },
      "execution_count": 4,
      "outputs": [
        {
          "output_type": "stream",
          "name": "stdout",
          "text": [
            "Enter the 1st number2\n",
            "Enter the 2nd number3\n",
            "THE SWAPPED NUMBER ARE 3 2\n"
          ]
        }
      ]
    },
    {
      "cell_type": "markdown",
      "source": [
        "### Q4:- Write a program to find the euclidean distance between two coordinates.Take both the coordinates from the user as input."
      ],
      "metadata": {
        "id": "waLCP1bjr7ML"
      }
    },
    {
      "cell_type": "code",
      "source": [
        "# Write your code here\n",
        "# Write your code here\n",
        "p1x = int(input('enter x cood of 1st point'))\n",
        "p1y = int(input('enter y cood of 1st point'))\n",
        "p2x = int(input('enter x cood of 2nd point'))\n",
        "p2y = int(input('enter y cood of 2nd point'))\n",
        "\n",
        "distance = ((p2x - p1x)**2 + (p2y - p1y)**2)**0.5\n",
        "\n",
        "print(round(distance,2))"
      ],
      "metadata": {
        "id": "Pl1Sv-xnrxnH",
        "outputId": "c8f3d7dc-527b-40d5-e9fa-25fceb783d82",
        "colab": {
          "base_uri": "https://localhost:8080/"
        }
      },
      "execution_count": 5,
      "outputs": [
        {
          "output_type": "stream",
          "name": "stdout",
          "text": [
            "enter x cood of 1st point2\n",
            "enter y cood of 1st point3\n",
            "enter x cood of 2nd point5\n",
            "enter y cood of 2nd point6\n",
            "4.24\n"
          ]
        }
      ]
    },
    {
      "cell_type": "markdown",
      "source": [
        "### Q5:- Write a program to find the simple interest when the value of principle,rate of interest and time period is provided by the user.\n"
      ],
      "metadata": {
        "id": "VLrhg-FRsHjR"
      }
    },
    {
      "cell_type": "code",
      "source": [
        "# Write your code here\n",
        "# Write your code here\n",
        "p = int(input('Enter amount'))\n",
        "t = int(input('Enter time period'))\n",
        "r = float(input('Enter rate'))\n",
        "\n",
        "interest = (p*t*r)/100\n",
        "\n",
        "print('the interest is',interest)"
      ],
      "metadata": {
        "id": "s40DlReZsTmY",
        "outputId": "30765ace-15cb-44dd-f97e-85f451bda449",
        "colab": {
          "base_uri": "https://localhost:8080/"
        }
      },
      "execution_count": 6,
      "outputs": [
        {
          "output_type": "stream",
          "name": "stdout",
          "text": [
            "Enter amount10000\n",
            "Enter time period2\n",
            "Enter rate6.8\n",
            "the interest is 1360.0\n"
          ]
        }
      ]
    },
    {
      "cell_type": "markdown",
      "source": [
        "### Q6:- Write a program that will tell the number of dogs and chicken are there when the user will provide the value of total heads and legs.\n",
        "\n",
        "For example:\n",
        "Input:\n",
        "heads -> 4\n",
        "legs -> 12\n",
        "<br>\n",
        "Output:\n",
        "dogs -> 2\n",
        "chicken -> 2\n",
        "\n",
        "\n",
        "\n"
      ],
      "metadata": {
        "id": "LMy0BTUktYKa"
      }
    },
    {
      "cell_type": "code",
      "source": [
        "# Write your code here\n",
        "# Get input from the user\n",
        "heads = int(input(\"Enter the total number of heads: \"))\n",
        "legs = int(input(\"Enter the total number of legs: \"))\n",
        "\n",
        "# Each dog has 4 legs, each chicken has 2 legs\n",
        "# Let x be the number of dogs and y be the number of chickens\n",
        "# We have the equations:\n",
        "# x + y = heads\n",
        "# 4x + 2y = legs\n",
        "\n",
        "# Solve the equations to find the number of dogs and chickens\n",
        "# Multiply the first equation by 2 and subtract it from the second equation to eliminate y\n",
        "# Then, solve for x\n",
        "x = (legs - 2 * heads) / 2\n",
        "# Calculate the number of chickens using the value of x\n",
        "y = heads - x\n",
        "\n",
        "# Convert the numbers to integers\n",
        "dogs = int(x)\n",
        "chickens = int(y)\n",
        "\n",
        "# Display the result\n",
        "print(\"Number of dogs:\", dogs)\n",
        "print(\"Number of chickens:\", chickens)\n"
      ],
      "metadata": {
        "id": "XSBvJoA4tXaG",
        "outputId": "b1532b1b-b4ad-4b4c-e75e-82d541bdb1fe",
        "colab": {
          "base_uri": "https://localhost:8080/"
        }
      },
      "execution_count": 12,
      "outputs": [
        {
          "output_type": "stream",
          "name": "stdout",
          "text": [
            "Enter the total number of heads: 6\n",
            "Enter the total number of legs: 18\n",
            "Number of dogs: 3\n",
            "Number of chickens: 3\n"
          ]
        }
      ]
    },
    {
      "cell_type": "markdown",
      "source": [
        "### Q7:- Write a program to find the sum of squares of first n natural numbers where n will be provided by the user."
      ],
      "metadata": {
        "id": "gJ7C5kZYt4BP"
      }
    },
    {
      "cell_type": "code",
      "source": [
        "# Write your code here\n",
        "# Write your code here\n",
        "n = int(input('enter the number'))\n",
        "\n",
        "result = (n*(n+1)*(2*n + 1))/6\n",
        "print(result)"
      ],
      "metadata": {
        "id": "_tHsmEHzt2nX",
        "outputId": "9b56880e-59dd-46bf-ec5f-cd542f82d292",
        "colab": {
          "base_uri": "https://localhost:8080/"
        }
      },
      "execution_count": 7,
      "outputs": [
        {
          "output_type": "stream",
          "name": "stdout",
          "text": [
            "enter the number2\n",
            "5.0\n"
          ]
        }
      ]
    },
    {
      "cell_type": "markdown",
      "source": [
        "### Q8:- Given the first 2 terms of an Arithmetic Series.Find the Nth term of the series. Assume all inputs are provided by the user."
      ],
      "metadata": {
        "id": "FHrMM7g-yG1h"
      }
    },
    {
      "cell_type": "code",
      "source": [
        "# Write your code here\n",
        "# Write your code here\n",
        "first_term = int(input('enter 1st term'))\n",
        "second_term = int(input('enter 2nd term'))\n",
        "n = int(input('enter the value of n'))\n",
        "\n",
        "d = second_term - first_term\n",
        "\n",
        "an = first_term + (n-1)*d\n",
        "\n",
        "print(an)\n",
        "\n"
      ],
      "metadata": {
        "id": "go4_kmZmyVSx",
        "outputId": "8723b2a3-413a-41d8-c03a-48437636be52",
        "colab": {
          "base_uri": "https://localhost:8080/"
        }
      },
      "execution_count": 8,
      "outputs": [
        {
          "output_type": "stream",
          "name": "stdout",
          "text": [
            "enter 1st term3\n",
            "enter 2nd term5\n",
            "enter the value of n5\n",
            "11\n"
          ]
        }
      ]
    },
    {
      "cell_type": "markdown",
      "source": [
        "### Q9:- Given 2 fractions, find the sum of those 2 fractions.Take the numerator and denominator values of the fractions from the user."
      ],
      "metadata": {
        "id": "QgyRX_es1oum"
      }
    },
    {
      "cell_type": "code",
      "source": [
        "# Write your code here\n",
        "# Write your code here\n",
        "n1 = int(input('num1'))\n",
        "d1 = int(input('den1'))\n",
        "n2 = int(input('num2'))\n",
        "d2 = int(input('den2'))\n",
        "\n",
        "rn = n1*d2 + n2*d1\n",
        "rd = d1*d2\n",
        "\n",
        "print('{}/{}'.format(rn,rd))"
      ],
      "metadata": {
        "id": "X05xqFS1yW16",
        "outputId": "026462ef-9988-45b7-9422-033f572fab79",
        "colab": {
          "base_uri": "https://localhost:8080/"
        }
      },
      "execution_count": 9,
      "outputs": [
        {
          "output_type": "stream",
          "name": "stdout",
          "text": [
            "num12\n",
            "den14\n",
            "num22\n",
            "den26\n",
            "20/24\n"
          ]
        }
      ]
    },
    {
      "cell_type": "markdown",
      "source": [
        "### Q10:- Given the height, width and breadth of a milk tank, you have to find out how many glasses of milk can be obtained? Assume all the inputs are provided by the user.\n",
        "\n",
        "\n",
        "\n",
        "Input:<br>\n",
        "Dimensions of the milk tank<br>\n",
        "H = 20cm, L = 20cm, B = 20cm\n",
        "<br><br>\n",
        "Dimensions of the glass<br>\n",
        "h = 3cm, r = 1cm"
      ],
      "metadata": {
        "id": "eaql38ln13u7"
      }
    },
    {
      "cell_type": "code",
      "source": [
        "# Write your code here\n",
        "# Write your code here\n",
        "import math\n",
        "\n",
        "h_t = float(input('height'))\n",
        "b_t = float(input('breadth'))\n",
        "l_t = float(input('length'))\n",
        "\n",
        "h_g = float(input('height of glass'))\n",
        "r_g = float(input('radius of the glass'))\n",
        "\n",
        "vol_tank = h_t*b_t*l_t\n",
        "vol_glass = 3.14*r_g*r_g*h_g\n",
        "\n",
        "print('no of glasses',math.floor(vol_tank/vol_glass))"
      ],
      "metadata": {
        "id": "FePZqno74eWv",
        "outputId": "ac31623d-ab44-4cfb-d226-0424d4498a6c",
        "colab": {
          "base_uri": "https://localhost:8080/"
        }
      },
      "execution_count": 10,
      "outputs": [
        {
          "output_type": "stream",
          "name": "stdout",
          "text": [
            "height2\n",
            "breadth3\n",
            "length4\n",
            "height of glass5\n",
            "radius of the glass6\n",
            "no of glasses 0\n"
          ]
        }
      ]
    }
  ]
}