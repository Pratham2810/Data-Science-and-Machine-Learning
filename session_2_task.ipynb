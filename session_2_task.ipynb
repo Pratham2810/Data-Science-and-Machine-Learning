{
  "nbformat": 4,
  "nbformat_minor": 0,
  "metadata": {
    "colab": {
      "provenance": []
    },
    "kernelspec": {
      "name": "python3",
      "display_name": "Python 3"
    },
    "language_info": {
      "name": "python"
    }
  },
  "cells": [
    {
      "cell_type": "markdown",
      "source": [
        "### `Problem 1`: Write a program that will give you in hand monthly salary after deduction on CTC - HRA(10%), DA(5%), PF(3%) and taxes deduction as below:\n",
        "\n",
        "> Salary(Lakhs) : Tax(%)\n",
        "\n",
        "*   Below 5 : 0%\n",
        "*   5-10 : 10%\n",
        "*   10-20 : 20%\n",
        "*   aboove 20 : 30%"
      ],
      "metadata": {
        "id": "w6RlOAXV2PWh"
      }
    },
    {
      "cell_type": "code",
      "source": [
        "# Write code here\n",
        "\n",
        "ctc = int(input('Enter your anual CTC:'))\n",
        "\n",
        "if ctc < 5000000:\n",
        "    salary=ctc*.82\n",
        "elif ctc<1000000:\n",
        "    salary=ctc*.72\n",
        "elif ctc<2000000:\n",
        "    salary=ctc*.62\n",
        "else:\n",
        "    salary=ctc*.52\n",
        "\n",
        "print(\"You in hand monthly salary will be-\", round(salary/12,2))"
      ],
      "metadata": {
        "id": "7tMHvKYO2etI"
      },
      "execution_count": null,
      "outputs": []
    },
    {
      "cell_type": "markdown",
      "source": [
        "### `Problem 2`: Write a program that take a user input of three angles and will find out whether it can form a triangle or not."
      ],
      "metadata": {
        "id": "tYzCGqwl2hfN"
      }
    },
    {
      "cell_type": "code",
      "source": [
        "# Write code here\n",
        "\n",
        "first = int(input('enter the 1st angle'))\n",
        "second = int(input('enter the 2nd angle'))\n",
        "third = int(input('enter the 3rd angle'))\n",
        "\n",
        "if (first+second+third) == 180 and first>0 and second>0 and third>0:\n",
        "  print('forms a triangle')\n",
        "else:\n",
        "  print('does not form a triangle')"
      ],
      "metadata": {
        "id": "FYEqln-I2kxV"
      },
      "execution_count": null,
      "outputs": []
    },
    {
      "cell_type": "markdown",
      "source": [
        "### `Problem 3`: Write a program that will take user input of cost price and selling price and determines whether its a loss or a profit."
      ],
      "metadata": {
        "id": "5vEpPh8C2pE4"
      }
    },
    {
      "cell_type": "code",
      "source": [
        "# Write code here\n",
        "\n",
        "cost_price = int(input('Enter cost price-'))\n",
        "selling_price = int(input('Enter selling price-'))\n",
        "\n",
        "if cost_price < selling_price:\n",
        "    print('Profit')\n",
        "elif cost_price > selling_price:\n",
        "    print('Loss')\n",
        "else:\n",
        "    print('No Loss No Gain')"
      ],
      "metadata": {
        "id": "jDwBXlkO2sfl"
      },
      "execution_count": null,
      "outputs": []
    },
    {
      "cell_type": "markdown",
      "source": [
        "### `Problem 4`: Write a menu-driven program -\n",
        "1. cm to ft\n",
        "2. km to miles\n",
        "3. USD to INR\n",
        "4. exit"
      ],
      "metadata": {
        "id": "J_FG_cJW2ugT"
      }
    },
    {
      "cell_type": "code",
      "source": [
        "# Write code here\n",
        "menu = input(\"\"\"\n",
        "Hi select an option\n",
        "1. cms to ft\n",
        "2. km to miles\n",
        "3. USD to INR\n",
        "4. Exit\n",
        "\"\"\")\n",
        "\n",
        "if menu == '1':\n",
        "  cm = float(input('enter the cm value'))\n",
        "  print('ft value is',0.032*cm)\n",
        "elif menu == '2':\n",
        "  km = float(input('enter the km value'))\n",
        "  print('miles value is',km*0.62)\n",
        "elif menu == '3':\n",
        "  usd = float(input('enter usd'))\n",
        "  print('inr',usd*80)\n",
        "else:\n",
        "  exit()"
      ],
      "metadata": {
        "id": "yBHhaCGQ2zpD"
      },
      "execution_count": null,
      "outputs": []
    },
    {
      "cell_type": "markdown",
      "source": [
        "### `Problem 5` - Exercise 12: Display Fibonacci series up to 10 terms.\n",
        "\n",
        "*Note: The Fibonacci Sequence is a series of numbers. The next number is found by adding up the two numbers before it. The first two numbers are 0 and 1. For example, 0, 1, 1, 2, 3, 5, 8, 13, 21. The next number in this series above is 13+21 = 34*"
      ],
      "metadata": {
        "id": "LJJ30_Yw27ZU"
      }
    },
    {
      "cell_type": "code",
      "source": [
        "# Write code here\n",
        "num1,num2 = 0,1\n",
        "\n",
        "for i in range(10):\n",
        "  print(num1)\n",
        "\n",
        "  next = num1 + num2\n",
        "\n",
        "  num1 = num2\n",
        "  num2 = next"
      ],
      "metadata": {
        "id": "ae_1rpe52-5R"
      },
      "execution_count": null,
      "outputs": []
    },
    {
      "cell_type": "markdown",
      "source": [
        "### `Problem 6` - Find the factorial of a given number.\n",
        "\n",
        "Write a program to use the loop to find the factorial of a given number.\n",
        "\n",
        "The factorial (symbol: `!`) means to multiply all whole numbers from the chosen number down to 1.\n",
        "\n",
        "For example: calculate the factorial of 5\n",
        "\n",
        "```bash\n",
        "5! = 5 × 4 × 3 × 2 × 1 = 120\n",
        "```\n",
        "\n",
        "Output:\n",
        "\n",
        "```bash\n",
        "120\n",
        "```"
      ],
      "metadata": {
        "id": "pk_I_S4m3PT5"
      }
    },
    {
      "cell_type": "code",
      "source": [
        "# Write code here\n",
        "num = int(input('enter the number'))\n",
        "\n",
        "fact = 1\n",
        "for i in range(1,num+1):\n",
        "  fact = fact*i\n",
        "\n",
        "print(fact)"
      ],
      "metadata": {
        "id": "lzXxHegx3Rkc"
      },
      "execution_count": null,
      "outputs": []
    },
    {
      "cell_type": "markdown",
      "source": [
        "### `Problem 7` - Reverse a given integer number.\n",
        "\n",
        "Example:\n",
        "\n",
        "`Input:`\n",
        "\n",
        "```bash\n",
        "76542\n",
        "```\n",
        "\n",
        "`Output:`\n",
        "\n",
        "```bash\n",
        "24567\n",
        "```"
      ],
      "metadata": {
        "id": "-17IOi-g3UpU"
      }
    },
    {
      "cell_type": "code",
      "source": [
        "# Write code here\n",
        "number = int(input('enter the number'))\n",
        "\n",
        "rev = 0\n",
        "\n",
        "while number>0:\n",
        "  last = number%10\n",
        "  rev = rev*10 + last\n",
        "  number = number//10\n",
        "\n",
        "print(rev)"
      ],
      "metadata": {
        "id": "wJwLpKCr3aVA"
      },
      "execution_count": null,
      "outputs": []
    },
    {
      "cell_type": "markdown",
      "source": [
        "### `Problem 8`: Take a user input as integer N. Find out the sum from 1 to N. If any number if divisible by 5, then skip that number. And if the sum is greater than 300, don't need to calculate the sum further more. Print the final result. And don't use for loop to solve this problem.\n",
        "\n",
        "**Example 1:**\n",
        "\n",
        "`Input:`\n",
        "\n",
        "```bash\n",
        "30\n",
        "```\n",
        "\n",
        "`Output:`\n",
        "\n",
        "```bash\n",
        "276\n",
        "```"
      ],
      "metadata": {
        "id": "-t8PJQaY3sHf"
      }
    },
    {
      "cell_type": "code",
      "source": [
        "# Write code here\n",
        "N = int(input('enter the number'))\n",
        "sum = 0\n",
        "i = 1\n",
        "\n",
        "while i < N+1:\n",
        "  if i % 5 == 0:\n",
        "    i+=1\n",
        "    continue\n",
        "\n",
        "  sum += i\n",
        "\n",
        "  if sum > 300:\n",
        "    sum = sum - i\n",
        "    break\n",
        "\n",
        "  i+=1\n",
        "\n",
        "print(sum)"
      ],
      "metadata": {
        "id": "GZB6mGMP3ujT"
      },
      "execution_count": null,
      "outputs": []
    },
    {
      "cell_type": "markdown",
      "source": [
        "### `Problem 9`: Write a program that keeps on accepting a number from the user until the user enters Zero. Display the sum and average of all the numbers."
      ],
      "metadata": {
        "id": "Q7ggImeA3xm4"
      }
    },
    {
      "cell_type": "code",
      "source": [
        "# Write code here\n",
        "sum = 0\n",
        "count = 0\n",
        "\n",
        "while True:\n",
        "  num = int(input('enter number'))\n",
        "  if num == 0:\n",
        "    break\n",
        "  sum = sum + num\n",
        "  count = count + 1\n",
        "\n",
        "print('sum',sum)\n",
        "print('avg',sum/count)"
      ],
      "metadata": {
        "id": "t_YDSZDe4Kdo"
      },
      "execution_count": null,
      "outputs": []
    },
    {
      "cell_type": "markdown",
      "source": [
        "###`Problem 9`: Write a program which will find all such numbers which are divisible by 7 but are not a multiple of 5, between 2000 and 3200 (both included). The numbers obtained should be printed in a comma-separated sequence on a single line."
      ],
      "metadata": {
        "id": "6EhvEMvm4R7s"
      }
    },
    {
      "cell_type": "code",
      "source": [
        "# Write code here\n",
        "L = []\n",
        "for i in range(2000,3201):\n",
        "  if i % 7 == 0 and i % 5 != 0:\n",
        "    L.append(str(i))\n",
        "\n",
        "print(\",\".join(L))\n"
      ],
      "metadata": {
        "id": "d6RgP1B34T6c"
      },
      "execution_count": null,
      "outputs": []
    },
    {
      "cell_type": "markdown",
      "source": [
        "###`Problem 10`: Write a program, which will find all such numbers between 1000 and 3000 (both included) such that each digit of the number is an even number. The numbers obtained should be printed in a space-separated sequence on a single line.\n",
        "\n"
      ],
      "metadata": {
        "id": "tYvmRR-G4Vp4"
      }
    },
    {
      "cell_type": "code",
      "source": [
        "# Write code here\n",
        "L = []\n",
        "for i in range(1000,3001):\n",
        "  flag = True\n",
        "\n",
        "  curr = i\n",
        "\n",
        "  while curr > 0:\n",
        "    last = curr%10\n",
        "    if last % 2 != 0:\n",
        "      flag = False\n",
        "      break\n",
        "    curr = curr//10\n",
        "\n",
        "  if flag == True:\n",
        "    L.append(str(i))\n",
        "\n",
        "print(\",\".join(L))"
      ],
      "metadata": {
        "id": "k6Gs1kIf4k19"
      },
      "execution_count": null,
      "outputs": []
    },
    {
      "cell_type": "markdown",
      "source": [
        "###`Problem 11`: A robot moves in a plane starting from the original point (0,0). The robot can move toward UP, DOWN, LEFT and RIGHT with a given steps.\n",
        "The trace of robot movement is shown as the following:\n",
        "```\n",
        "UP 5\n",
        "DOWN 3\n",
        "LEFT 3\n",
        "RIGHT 2\n",
        "!\n",
        "```\n",
        "> The numbers after the direction are steps.\n",
        "\n",
        "> `!` means robot stop there.\n",
        "\n",
        "**Please write a program to compute the distance from current position after a sequence of movement and original point.**\n",
        "\n",
        "*If the distance is a float, then just print the nearest integer.*\n",
        "\n",
        "Example:\n",
        "\n",
        "`Input`:\n",
        "```\n",
        "UP 5\n",
        "DOWN 3\n",
        "LEFT 3\n",
        "RIGHT 2\n",
        "!\n",
        "```\n",
        "`Output`:\n",
        "```\n",
        "2\n",
        "```"
      ],
      "metadata": {
        "id": "GV18IINT4mf5"
      }
    },
    {
      "cell_type": "code",
      "source": [
        "# Write code here\n",
        "pos = [0,0]\n",
        "while True:\n",
        "  s = input('Enter the robot path')\n",
        "  if s == '!':\n",
        "    break\n",
        "  direction = s.split()[0]\n",
        "  steps = int(s.split()[1])\n",
        "\n",
        "  if direction == 'UP':\n",
        "    pos[1] = pos[1] + steps\n",
        "  elif direction == 'DOWN':\n",
        "    pos[1] = pos[1] - steps\n",
        "  elif direction == 'LEFT':\n",
        "    pos[0] = pos[0] - steps\n",
        "  elif direction == 'RIGHT':\n",
        "    pos[0] = pos[0] + steps\n",
        "  else:\n",
        "    pass\n",
        "\n",
        "print('new pos',pos)\n",
        "print((pos[0]**2 + pos[1]**2)**0.5)\n"
      ],
      "metadata": {
        "id": "6UNMC2aR4w5x"
      },
      "execution_count": null,
      "outputs": []
    },
    {
      "cell_type": "markdown",
      "source": [
        "###`Problem 12`:Write a program to print whether a given number is a prime number or not"
      ],
      "metadata": {
        "id": "3fsAIAhK5GYY"
      }
    },
    {
      "cell_type": "code",
      "source": [
        "# Write code here\n",
        "num = int(input('enter the num'))\n",
        "\n",
        "flag = True\n",
        "for i in range(2,num):\n",
        "  if num%i == 0:\n",
        "    flag = False\n",
        "    break\n",
        "\n",
        "if flag == True:\n",
        "  print('Prime')\n",
        "else:\n",
        "  print('Not Prime')\n",
        "\n"
      ],
      "metadata": {
        "id": "j6y91lxy5LZs"
      },
      "execution_count": null,
      "outputs": []
    },
    {
      "cell_type": "markdown",
      "source": [
        "###`Problem 13`:Print all the Armstrong numbers in a given range.\n",
        "Range will be provided by the user<br>\n",
        "Armstrong number is a number that is equal to the sum of cubes of its digits. For example 0, 1, 153, 370, 371 and 407 are the Armstrong numbers."
      ],
      "metadata": {
        "id": "asAbmbK-5NHv"
      }
    },
    {
      "cell_type": "code",
      "source": [
        "# Write code here\n",
        "start = int(input(\"Enter the start of the range: \"))\n",
        "end = int(input(\"Enter the end of the range: \"))\n",
        "\n",
        "for num in range(start, end+1):\n",
        "    temp = num\n",
        "    sum = 0\n",
        "    order = len(str(num))\n",
        "    while temp > 0:\n",
        "        digit = temp % 10\n",
        "        sum += digit ** order\n",
        "        temp //= 10\n",
        "    if num == sum:\n",
        "        print(num)\n"
      ],
      "metadata": {
        "id": "PZuI67pm5jCT"
      },
      "execution_count": null,
      "outputs": []
    },
    {
      "cell_type": "markdown",
      "source": [
        "###`Problem 14`:Calculate the angle between the hour hand and minute hand.\n",
        "\n",
        "Note: There can be two angles between hands; we need to print a minimum of two. Also, we need to print the floor of the final result angle. For example, if the final angle is 10.61, we need to print 10.\n",
        "\n",
        "Input:<br>\n",
        "H = 9 , M = 0<br>\n",
        "Output:<br>\n",
        "90<br>\n",
        "Explanation:<br>\n",
        "The minimum angle between hour and minute\n",
        "hand when the time is 9 is 90 degress."
      ],
      "metadata": {
        "id": "ClCQZMqT7gK0"
      }
    },
    {
      "cell_type": "code",
      "source": [
        "# Write code here\n",
        "h = int(input('Enter hours hand-'))\n",
        "m = int(input('Enter minute hand-'))\n",
        "\n",
        "# validate the input\n",
        "if (h < 0 or m < 0 or h > 12 or m > 60):\n",
        "    print('Wrong input')\n",
        "\n",
        "# Idea is to minute angle - hour agnle from clockwise from 12 hour point\n",
        "\n",
        "# 1 minute in minute angle manke 6 degree. (60 minute -> 360 degree)\n",
        "m_angle = m*6\n",
        "\n",
        "# every hour point yeilds to 30degree-- 12 hours-360degree plus if minute hand moves hour hands move too\n",
        "# Every minute after hour hand take 0.5 degree movement. clockwise\n",
        "h_angle = h*30 + m*0.5\n",
        "\n",
        "# Take abs difference b/w them\n",
        "angle = abs(h_angle - m_angle)\n",
        "\n",
        "\n",
        "if angle>180:\n",
        "    print(360-angle)\n",
        "else:\n",
        "    print(angle)"
      ],
      "metadata": {
        "id": "tNBTCZML7jy_"
      },
      "execution_count": null,
      "outputs": []
    },
    {
      "cell_type": "markdown",
      "source": [
        "###`Problem 15`:Given two rectangles, find if the given two rectangles overlap or not. A rectangle is denoted by providing the x and y coordinates of two points: the left top corner and the right bottom corner of the rectangle. Two rectangles sharing a side are considered overlapping. (L1 and R1 are the extreme points of the first rectangle and L2 and R2 are the extreme points of the second rectangle).\n",
        "\n",
        "Note: It may be assumed that the rectangles are parallel to the coordinate axis.\n",
        "\n",
        "<img src='https://www.geeksforgeeks.org/wp-content/uploads/rectanglesOverlap.png' width='300' height='200'>"
      ],
      "metadata": {
        "id": "GwacF9Co72Qc"
      }
    },
    {
      "cell_type": "code",
      "source": [
        "# Write code here\n",
        "print(\"Enter both Rectangel points coordinates <x y>\")\n",
        "\n",
        "l1_x, l1_y = list(map(int, input('Enter L1 coordinate value  (Two value space seperated):').split()))\n",
        "r1_x, r1_y = list(map(int, input('Enter r1 coordinate value,(Two value space seperated):').split()))\n",
        "\n",
        "l2_x, l2_y = list(map(int, input('Enter L2 coordinate value,(Two value space seperated):').split()))\n",
        "r2_x, r2_y = list(map(int, input('Enter r2 coordinate value,(Two value space seperated):').split()))\n",
        "\n",
        "# if rectangle has area 0, no overlap\n",
        "if l1_x == r1_x or l1_y == r1_y or r2_x == l2_x or l2_y == r2_y:\n",
        "  print(\"Don't Overlap\")\n",
        "\n",
        "# If one rectangle is on left side of other\n",
        "elif l1_x > r2_x or l2_x > r1_x:\n",
        "  print(\"Don't Overlap\")\n",
        "\n",
        "# If one rectangle is above other\n",
        "elif r1_y > l2_y or r2_y > l1_y:\n",
        "  print(\"Don't Overlap\")\n",
        "else:\n",
        "  print(\"Overlap\")"
      ],
      "metadata": {
        "id": "6rrw_lpH78Rs"
      },
      "execution_count": null,
      "outputs": []
    }
  ]
}